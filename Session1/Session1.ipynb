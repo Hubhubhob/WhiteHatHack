{
 "cells": [
  {
   "cell_type": "markdown",
   "id": "f09e9cb8",
   "metadata": {},
   "source": [
    "# SESSION 1"
   ]
  },
  {
   "cell_type": "markdown",
   "id": "30c118be",
   "metadata": {},
   "source": [
    "Scanning"
   ]
  },
  {
   "cell_type": "markdown",
   "id": "ec53ea89",
   "metadata": {},
   "source": [
    "1. TCP and UTP\n",
    "2. Port Scanning \n",
    "3. Port Service Version Scanning\n",
    "4. Firewall/IDS\n",
    "5. Bypassing Firewalls # Bagiamana bisa lewatin firewalls\n",
    "    a. Decoys and Packet Fragmentation \n",
    "    b. Security Evasion\n",
    "    \n",
    "6. Tools: Netdiscover, Nmap\n",
    "7. Membuat toold port scanner sendiri dengan python.\n"
   ]
  },
  {
   "cell_type": "markdown",
   "id": "3773e03f",
   "metadata": {},
   "source": [
    "Vulnerability Analysis"
   ]
  },
  {
   "cell_type": "markdown",
   "id": "89c35e20",
   "metadata": {},
   "source": [
    "Menganalisa kelamahan dari sebuah system\n",
    "- Tools \n",
    "    - Nmap Scripts\n",
    "    - Searchploit \n",
    "    - Nessus\n",
    "    - dll"
   ]
  },
  {
   "cell_type": "markdown",
   "id": "1a213810",
   "metadata": {},
   "source": [
    "Exploitation "
   ]
  },
  {
   "cell_type": "markdown",
   "id": "9eadeae2",
   "metadata": {},
   "source": [
    "- Pengenalan Reverse Shell, Bind Shell\n",
    "- Melakukan exploiit dengan reverse shell dan bind shell\n",
    "    - Telnet Exploit \n",
    "    - Samba Exploitation \n",
    "    - Vsftpd 2.3.4 exploitation \n",
    "    - SSH - Bruteforce Attack\n",
    "    - Eternal Blue Attack\n",
    "    - Double Pulsar Attack\n",
    "    - Blue Keep Attak\n",
    "    - Routersploit \n",
    "- Tools:\n",
    "    - Metasploit Framework "
   ]
  },
  {
   "cell_type": "markdown",
   "id": "6b0c2fe0",
   "metadata": {},
   "source": [
    "Post Exploitation"
   ]
  },
  {
   "cell_type": "markdown",
   "id": "77a677f6",
   "metadata": {},
   "source": [
    "- Msfvenom: membuat payload, virus, trojan \n",
    "- Mendalami Meterpretter:\n",
    "    - Windows Control dengan privilage penuh \n",
    "    - membuat keylogger \n",
    "    - mengambil screeshot \n",
    "    - menjalankan screen recorder\n",
    "    - mengakses camera \n",
    "    - mengakses audio \n",
    "    - menginstall program \n",
    "    - menghapus program \n",
    "    - membuat, menghapus, mengupload, mendownload file \n",
    "- Membuat Backdoor dengan bahas python "
   ]
  },
  {
   "cell_type": "markdown",
   "id": "6bfce1bc",
   "metadata": {},
   "source": [
    "# Web Hacking "
   ]
  },
  {
   "cell_type": "markdown",
   "id": "1b4f70ac",
   "metadata": {},
   "source": [
    "- HTTP Request and Response \n",
    "- Drib Tool \n",
    "- Burpsuite Configuration \n",
    "- Shellshock Exploitation \n",
    "- Command Injection Exploitation \n",
    "- Reflected XSS and Cookie Stealing \n",
    "- HTML Injection \n",
    "- SQL Injection \n",
    "- CSRF Vulneability \n",
    "- Hydra Vruteforce Attack \n",
    "- Burpsuite Intruder \n"
   ]
  },
  {
   "cell_type": "markdown",
   "id": "52da24ca",
   "metadata": {},
   "source": [
    "Man In The Middle ( MITM ) "
   ]
  },
  {
   "cell_type": "markdown",
   "id": "f8630cec",
   "metadata": {},
   "source": [
    "- Bettercap ARP Spoofing \n",
    "- Ettercap Password Sniffing \n",
    "- Scapy "
   ]
  },
  {
   "cell_type": "markdown",
   "id": "b27ad05c",
   "metadata": {},
   "source": [
    "Wireless Acces Point WAP Cracking "
   ]
  },
  {
   "cell_type": "markdown",
   "id": "22db3d52",
   "metadata": {},
   "source": [
    "- Aircrack Password Cracking \n",
    "- Hashcat Password Cracking"
   ]
  },
  {
   "cell_type": "markdown",
   "id": "8a070c72",
   "metadata": {},
   "source": [
    "Android Hacking "
   ]
  },
  {
   "cell_type": "markdown",
   "id": "6c67bf9a",
   "metadata": {},
   "source": [
    "- Menginstall Kali Linux di Android \n",
    "- Hack Android dengan Metasploit \n",
    "- Mengakses Android dengan Android Meterpreter\n",
    "- Evil Droid \n",
    "- Lemon\n",
    "- Memasukan Malware ke apk\n",
    "- Ghost Framework \n",
    "- Ngrok "
   ]
  },
  {
   "cell_type": "markdown",
   "id": "e64b04ff",
   "metadata": {},
   "source": [
    "# Termux "
   ]
  },
  {
   "cell_type": "markdown",
   "id": "03d95593",
   "metadata": {},
   "source": [
    "- Perintah dasar Termux \n",
    "- Termux API \n",
    "- Nmap \n",
    "- OWScan Tool\n",
    "- HTtrack Clone Websites\n",
    "- NsLookUp Tool \n",
    "- DarkFly Tool \n",
    "- RED HAWK Tool \n",
    "- Lazymux Tool "
   ]
  },
  {
   "cell_type": "code",
   "execution_count": null,
   "id": "d8061356",
   "metadata": {},
   "outputs": [],
   "source": []
  }
 ],
 "metadata": {
  "kernelspec": {
   "display_name": "Python 3 (ipykernel)",
   "language": "python",
   "name": "python3"
  },
  "language_info": {
   "codemirror_mode": {
    "name": "ipython",
    "version": 3
   },
   "file_extension": ".py",
   "mimetype": "text/x-python",
   "name": "python",
   "nbconvert_exporter": "python",
   "pygments_lexer": "ipython3",
   "version": "3.9.12"
  }
 },
 "nbformat": 4,
 "nbformat_minor": 5
}
